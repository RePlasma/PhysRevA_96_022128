{
 "cells": [
  {
   "cell_type": "markdown",
   "metadata": {},
   "source": [
    "# PhysRevA.96.022128 - Figure 3\n",
    "\n",
    "Critical phase\n",
    "\n",
    "Data in markers taken with WebPlotDigitizer"
   ]
  },
  {
   "cell_type": "code",
   "execution_count": 1,
   "metadata": {},
   "outputs": [],
   "source": [
    "# import API\n",
    "import pwpp\n",
    "from pwpp import *"
   ]
  },
  {
   "cell_type": "code",
   "execution_count": 13,
   "metadata": {},
   "outputs": [
    {
     "data": {
      "image/png": "[encoded data removed]",
      "text/plain": [
       "<Figure size 432x288 with 1 Axes>"
      ]
     },
     "metadata": {
      "needs_background": "light"
     },
     "output_type": "display_data"
    }
   ],
   "source": [
    "fntsz = 16\n",
    "markersize = 5\n",
    "\n",
    "f = open('data/fig3/wpd.json')\n",
    "data = json.load(f)\n",
    "#\n",
    "datatmp = data['datasetColl'][0]['data']\n",
    "datatmp2 = np.array([datatmp[i]['value'] for i in range(len(datatmp))])\n",
    "indxs = np.argsort(datatmp2[:,0])\n",
    "plt.plot(datatmp2[:,0][indxs],datatmp2[:,1][indxs],'.',markersize=markersize,color='#EDB120')\n",
    "#\n",
    "datatmp = data['datasetColl'][1]['data']\n",
    "datatmp2 = np.array([datatmp[i]['value'] for i in range(len(datatmp))])\n",
    "indxs = np.argsort(datatmp2[:,0])\n",
    "plt.plot(datatmp2[:,0][indxs],datatmp2[:,1][indxs],'.',markersize=markersize,color='#EDB120')\n",
    "#\n",
    "datatmp = data['datasetColl'][2]['data']\n",
    "datatmp2 = np.array([datatmp[i]['value'] for i in range(len(datatmp))])\n",
    "indxs = np.argsort(datatmp2[:,0])\n",
    "plt.plot(datatmp2[:,0][indxs],datatmp2[:,1][indxs],'.',markersize=markersize,color='b')\n",
    "#\n",
    "datatmp = data['datasetColl'][3]['data']\n",
    "datatmp2 = np.array([datatmp[i]['value'] for i in range(len(datatmp))])\n",
    "indxs = np.argsort(datatmp2[:,0])\n",
    "plt.plot(datatmp2[:,0][indxs],datatmp2[:,1][indxs],'.',markersize=markersize,color='b')\n",
    "\n",
    "# a dashed\n",
    "lbd=0.8;\n",
    "a0=0.855*sqrt(1e23/1e18)*lbd;\n",
    "w0=1.55e-9;\n",
    "n=11.2;\n",
    "glst = np.logspace(3,log10(2e4));\n",
    "def phic2mod(glst):\n",
    "    return [phicmod(g0, a0, w0, n) for g0 in glst];\n",
    "def phic2(glst):\n",
    "    return [phic(g0, a0, w0, n) for g0 in glst];\n",
    "phiclst = phic2mod(glst);\n",
    "plt.plot(glst,phiclst,'--',color='#EDB120')\n",
    "plt.xlim([1000,2e4])\n",
    "plt.ylim([0,100])\n",
    "plt.xlabel('$\\gamma$',size=fntsz)\n",
    "plt.ylabel('$\\phi_c$',size=fntsz)\n",
    "\n",
    "# a solid\n",
    "lbd=0.8;\n",
    "a0=0.855*sqrt(1e23/1e18)*lbd;\n",
    "w0=1.55e-9;\n",
    "n=11.2;\n",
    "glst = np.logspace(3,log10(2e4));\n",
    "def phic2mod(glst):\n",
    "    return [phicmod(g0, a0, w0, n) for g0 in glst];\n",
    "def phic2(glst):\n",
    "    return [phic(g0, a0, w0, n) for g0 in glst];\n",
    "phiclst = phic2(glst);\n",
    "plt.plot(glst,phiclst,'-',color='#EDB120')\n",
    "\n",
    "# b dashed\n",
    "lbd=0.8;\n",
    "a0=0.855*sqrt(1e21/1e18)*lbd;\n",
    "w0=1.55e-9;\n",
    "n=11.2;\n",
    "glst = np.logspace(3,log10(2e4));\n",
    "def phic2mod(glst):\n",
    "    return [phicmod(g0, a0, w0, n) for g0 in glst];\n",
    "def phic2(glst):\n",
    "    return [phic(g0, a0, w0, n) for g0 in glst];\n",
    "phiclst = phic2mod(glst);\n",
    "plt.plot(glst,phiclst,'b--')\n",
    "\n",
    "# b solid\n",
    "lbd=0.8;\n",
    "a0=0.855*sqrt(1e21/1e18)*lbd;\n",
    "w0=1.55e-9;\n",
    "n=11.2;\n",
    "glst = np.logspace(3,log10(2e4));\n",
    "def phic2mod(glst):\n",
    "    return [phicmod(g0, a0, w0, n) for g0 in glst];\n",
    "def phic2(glst):\n",
    "    return [phic(g0, a0, w0, n) for g0 in glst];\n",
    "phiclst = phic2(glst);\n",
    "plt.plot(glst,phiclst,'b-')\n",
    "\n",
    "plt.xticks([1000,2000,5000,10000,20000])\n",
    "plt.yticks([0,20,40,60,80,100])\n",
    "plt.xscale('log')\n",
    "plt.show()"
   ]
  },
  {
   "cell_type": "code",
   "execution_count": 3,
   "metadata": {},
   "outputs": [],
   "source": []
  },
  {
   "cell_type": "code",
   "execution_count": null,
   "metadata": {},
   "outputs": [],
   "source": []
  }
 ],
 "metadata": {
  "kernelspec": {
   "display_name": "Python 3",
   "language": "python",
   "name": "python3"
  },
  "language_info": {
   "codemirror_mode": {
    "name": "ipython",
    "version": 3
   },
   "file_extension": ".py",
   "mimetype": "text/x-python",
   "name": "python",
   "nbconvert_exporter": "python",
   "pygments_lexer": "ipython3",
   "version": "3.7.4"
  }
 },
 "nbformat": 4,
 "nbformat_minor": 4
}

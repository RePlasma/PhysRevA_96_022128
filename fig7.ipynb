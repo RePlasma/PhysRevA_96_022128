{
 "cells": [
  {
   "cell_type": "markdown",
   "metadata": {},
   "source": [
    "# PhysRevA.96.022128 - Figure 7\n",
    "\n",
    "Positron mean energy\n",
    "\n",
    "Dots - data from paper (extracted with WebPlotDigitizer)"
   ]
  },
  {
   "cell_type": "code",
   "execution_count": 2,
   "metadata": {},
   "outputs": [],
   "source": [
    "# import API\n",
    "import pwpp\n",
    "from pwpp import *"
   ]
  },
  {
   "cell_type": "code",
   "execution_count": 9,
   "metadata": {},
   "outputs": [],
   "source": [
    "xdim = 10\n",
    "# tau\n",
    "E0 = 1; #[GeV]\n",
    "I21 = 5; #[]\n",
    "lbd = 1; #[\\mu m]\n",
    "taulst = np.logspace(log10(5),log10(60),xdim);\n",
    "def Ep_tau(tau):\n",
    "    return gp(E0/m, 0.855*sqrt(I21*1e21/1e18)*lbd, 2*pi*c/(lbd*1e-6)*hbar/e*1e-9, tau*c/(lbd*1e-6)*1e-15)\n",
    "Ep_tau = np.vectorize(Ep_tau)\n",
    "Eplst_tau = Ep_tau(taulst);\n",
    "\n",
    "# lbd\n",
    "E0 = 1; #[GeV]\n",
    "I21 = 5; #[]\n",
    "tau = 30; #[fs]\n",
    "lbdlst = np.logspace(log10(0.1),log10(10),xdim);\n",
    "def Ep_lbd(lbd):\n",
    "    return gp(E0/m, 0.855*sqrt(I21*1e21/1e18)*lbd, 2*pi*c/(lbd*1e-6)*hbar/e*1e-9, tau*c/(lbd*1e-6)*1e-15)\n",
    "Ep_lbd = np.vectorize(Ep_lbd)\n",
    "Eplst_lbd = Ep_lbd(lbdlst);\n",
    "\n",
    "# I21\n",
    "E0 = 1; #[GeV]\n",
    "lbd = 1.0; #[\\mu m]\n",
    "tau = 30; #[fs]\n",
    "I21lst = np.logspace(log10(1),log10(30),xdim);\n",
    "def Ep_I21(I21):\n",
    "    return gp(E0/m, 0.855*sqrt(I21*1e21/1e18)*lbd, 2*pi*c/(lbd*1e-6)*hbar/e*1e-9, tau*c/(lbd*1e-6)*1e-15)\n",
    "Ep_I21 = np.vectorize(Ep_I21)\n",
    "Eplst_I21 = Ep_I21(I21lst);\n",
    "\n",
    "# g0\n",
    "lbd = 1.0; #[\\mu m]\n",
    "I21 = 5; #[]\n",
    "tau = 30; #[fs]\n",
    "E0lst = np.logspace(log10(0.4),log10(4),xdim);\n",
    "def Ep_E0(E0):\n",
    "    return gp(E0/m, 0.855*sqrt(I21*1e21/1e18)*lbd, 2*pi*c/(lbd*1e-6)*hbar/e*1e-9, tau*c/(lbd*1e-6)*1e-15)\n",
    "Ep_E0 = np.vectorize(Ep_E0)\n",
    "Eplst_E0 = Ep_E0(E0lst);"
   ]
  },
  {
   "cell_type": "code",
   "execution_count": 10,
   "metadata": {},
   "outputs": [
    {
     "data": {
      "image/png": "[encoded data removed]",
      "text/plain": [
       "<Figure size 432x432 with 4 Axes>"
      ]
     },
     "metadata": {
      "needs_background": "light"
     },
     "output_type": "display_data"
    }
   ],
   "source": [
    "# plot all\n",
    "fig, axes = plt.subplots(nrows=2, ncols=2,figsize=(6,6))\n",
    "fntsz = 16\n",
    "\n",
    "f = open('data/fig7a/wpd.json')\n",
    "data = json.load(f)\n",
    "datatmp = data['datasetColl'][0]['data']\n",
    "datatmp2 = np.array([datatmp[i]['value'] for i in range(len(datatmp))])\n",
    "indxs = np.argsort(datatmp2[:,0])\n",
    "axes[0,0].plot(datatmp2[:,0][indxs],datatmp2[:,1][indxs],'k.')\n",
    "#\n",
    "#axes[0,1].plot(lbdlst, lbdlst*0+0.18571428571428572,'k.')\n",
    "#\n",
    "f = open('data/fig7c/wpd.json')\n",
    "data = json.load(f)\n",
    "datatmp = data['datasetColl'][0]['data']\n",
    "datatmp2 = np.array([datatmp[i]['value'] for i in range(len(datatmp))])\n",
    "indxs = np.argsort(datatmp2[:,0])\n",
    "axes[1,0].plot(datatmp2[:,0][indxs],datatmp2[:,1][indxs],'k.')\n",
    "#\n",
    "f = open('data/fig7d/wpd.json')\n",
    "data = json.load(f)\n",
    "datatmp = data['datasetColl'][0]['data']\n",
    "datatmp2 = np.array([datatmp[i]['value'] for i in range(len(datatmp))])\n",
    "indxs = np.argsort(datatmp2[:,0])\n",
    "axes[1,1].plot(datatmp2[:,0][indxs],datatmp2[:,1][indxs],'k.')\n",
    "#\n",
    "\n",
    "axes[0,0].plot(taulst,m*Eplst_tau,'k-')\n",
    "axes[0,0].set_xscale('log')\n",
    "axes[0,0].set_xlim([5,60])\n",
    "axes[0,0].set_ylim([0,0.6])\n",
    "axes[0,0].set_xlabel(r'$\\tau[\\mathrm{fs}]$', size=fntsz)\n",
    "axes[0,0].set_ylabel(r'$E_+[\\mathrm{GeV}]$', size=fntsz)\n",
    "axes[0,0].set_xticks([5,10,20,50])\n",
    "axes[0,0].set_yticks([0,0.1,0.2,0.3,0.4,0.5,0.6])\n",
    "\n",
    "axes[0,1].plot(lbdlst,m*Eplst_lbd,'k-')\n",
    "axes[0,1].set_xlim([0.1,10])\n",
    "axes[0,1].set_ylim([0,0.6])\n",
    "axes[0,1].set_xlabel(r'$\\lambda[\\mu \\mathrm{m}]$', size=fntsz)\n",
    "axes[0,1].set_ylabel(r'$E_+[\\mathrm{GeV}]$', size=fntsz)\n",
    "axes[0,1].set_xticks([0.1,0.5,1,5,10])\n",
    "axes[0,1].set_yticks([0,0.1,0.2,0.3,0.4,0.5,0.6])\n",
    "axes[0,1].set_xscale('log')\n",
    "\n",
    "axes[1,0].plot(I21lst,m*Eplst_I21,'k-')\n",
    "axes[1,0].set_xlim([1,30])\n",
    "axes[1,0].set_ylim([0,0.6])\n",
    "axes[1,0].set_xlabel(r'$I_{21}$', size=fntsz)\n",
    "axes[1,0].set_ylabel(r'$E_+[\\mathrm{GeV}]$', size=fntsz)\n",
    "axes[1,0].set_xticks([1,2,5,10,20])\n",
    "axes[1,0].set_yticks([0,0.1,0.2,0.3,0.4,0.5,0.6])\n",
    "axes[1,0].set_xscale('log')\n",
    "\n",
    "axes[1,1].plot(E0lst,m*Eplst_E0,'k-')\n",
    "axes[1,1].set_xlim([0.4,4])\n",
    "axes[1,1].set_ylim([0,1])\n",
    "axes[1,1].set_xlabel(r'$E_0[\\mathrm{GeV}]$', size=fntsz)\n",
    "axes[1,1].set_ylabel(r'$E_+[\\mathrm{GeV}]$', size=fntsz)\n",
    "axes[1,1].set_xticks([0.5,1,2])\n",
    "axes[1,1].set_yticks([0,0.2,0.4,0.6,0.8,1.0])\n",
    "axes[1,1].set_xscale('log')\n",
    "\n",
    "plt.tight_layout()\n",
    "plt.show()"
   ]
  },
  {
   "cell_type": "code",
   "execution_count": null,
   "metadata": {},
   "outputs": [],
   "source": []
  }
 ],
 "metadata": {
  "kernelspec": {
   "display_name": "Python 3",
   "language": "python",
   "name": "python3"
  },
  "language_info": {
   "codemirror_mode": {
    "name": "ipython",
    "version": 3
   },
   "file_extension": ".py",
   "mimetype": "text/x-python",
   "name": "python",
   "nbconvert_exporter": "python",
   "pygments_lexer": "ipython3",
   "version": "3.7.4"
  }
 },
 "nbformat": 4,
 "nbformat_minor": 4
}
